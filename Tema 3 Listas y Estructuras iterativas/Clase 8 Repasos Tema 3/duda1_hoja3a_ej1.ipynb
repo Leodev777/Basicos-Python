{
 "cells": [
  {
   "attachments": {},
   "cell_type": "markdown",
   "metadata": {},
   "source": [
    "1. Escribe un programa que pida al usuario un número entero y muestre por pantalla una estructura como la de más abajo, donde el valor de entrada es el número de estrellas en el centro de la estructura.\n",
    "*\n",
    "** \n",
    "*** \n",
    "**** \n",
    "***** \n",
    "**** \n",
    "*** \n",
    "**\n",
    "*\n",
    "\n"
   ]
  },
  {
   "cell_type": "code",
   "execution_count": 12,
   "metadata": {},
   "outputs": [
    {
     "name": "stdout",
     "output_type": "stream",
     "text": [
      "*****\n"
     ]
    }
   ],
   "source": [
    "num = 5 # defino una varible tipo int\n",
    "print(\"*\" * num) # multiplico un string por int"
   ]
  },
  {
   "cell_type": "code",
   "execution_count": 13,
   "metadata": {},
   "outputs": [
    {
     "name": "stdout",
     "output_type": "stream",
     "text": [
      "1\n",
      "2\n",
      "3\n",
      "4\n",
      "5\n"
     ]
    }
   ],
   "source": [
    "num = 5 # defino una varible tipo int\n",
    "\n",
    "for i in range(1,num+1): # i toma valores de 1 a num\n",
    "    print(i) # imprimo i"
   ]
  },
  {
   "cell_type": "code",
   "execution_count": 14,
   "metadata": {},
   "outputs": [
    {
     "name": "stdout",
     "output_type": "stream",
     "text": [
      "*\n",
      "**\n",
      "***\n",
      "****\n",
      "*****\n"
     ]
    }
   ],
   "source": [
    "num = 5 # defino una varible tipo int\n",
    "\n",
    "for i in range(1,num+1): # i toma valores de 1 a num\n",
    "    print(\"*\" * i) # imprimo string por el entero i"
   ]
  },
  {
   "cell_type": "markdown",
   "metadata": {},
   "source": []
  },
  {
   "cell_type": "code",
   "execution_count": null,
   "metadata": {},
   "outputs": [
    {
     "name": "stdout",
     "output_type": "stream",
     "text": [
      "5\n",
      "4\n",
      "3\n",
      "2\n",
      "1\n"
     ]
    }
   ],
   "source": [
    "num = 5 # defino una varible tipo int\n",
    "\n",
    "for i in range(num, 0,-1): # i toma valores de num a 1\n",
    "    print(i) # imprimo i"
   ]
  },
  {
   "cell_type": "code",
   "execution_count": 16,
   "metadata": {},
   "outputs": [
    {
     "name": "stdout",
     "output_type": "stream",
     "text": [
      "*****\n",
      "****\n",
      "***\n",
      "**\n",
      "*\n"
     ]
    }
   ],
   "source": [
    "num = 5 # defino una varible tipo int\n",
    "\n",
    "for i in range(num, 0,-1): # i toma valores de num a 1\n",
    "    print(\"*\" * i) # imprimo string por el entero i"
   ]
  },
  {
   "cell_type": "code",
   "execution_count": 17,
   "metadata": {},
   "outputs": [
    {
     "name": "stdout",
     "output_type": "stream",
     "text": [
      "*\n",
      "**\n",
      "***\n",
      "****\n",
      "*****\n",
      "*****\n",
      "****\n",
      "***\n",
      "**\n",
      "*\n"
     ]
    }
   ],
   "source": [
    "num = 5  # defino una varible tipo int\n",
    "\n",
    "# combino ambos bucles\n",
    "for i in range(1,num+1):   # i toma valores de 1 a num\n",
    "    print(\"*\" * i) # imprimo string por el entero i\n",
    "\n",
    "for i in range(num, 0,-1):  # i toma valores de num a 1\n",
    "    print(\"*\" * i) # imprimo string por el entero i"
   ]
  },
  {
   "cell_type": "code",
   "execution_count": 18,
   "metadata": {},
   "outputs": [
    {
     "name": "stdout",
     "output_type": "stream",
     "text": [
      "****\n",
      "***\n",
      "**\n",
      "*\n"
     ]
    }
   ],
   "source": [
    "num = 5 # defino una varible tipo int\n",
    "\n",
    "for i in range(num-1, 0,-1): # i toma valores de 4 a 1\n",
    "    print(\"*\" * i) # imprimo string por el entero i"
   ]
  },
  {
   "cell_type": "code",
   "execution_count": 19,
   "metadata": {},
   "outputs": [
    {
     "name": "stdout",
     "output_type": "stream",
     "text": [
      "*\n",
      "**\n",
      "***\n",
      "****\n",
      "*****\n",
      "****\n",
      "***\n",
      "**\n",
      "*\n"
     ]
    }
   ],
   "source": [
    "num = 5 # defino una varible tipo int\n",
    "\n",
    "for i in range(1,num+1): # i toma valores de 1 a num\n",
    "    print(\"*\" * i) # imprimo string por el entero i \n",
    "\n",
    "for i in range(num-1, 0,-1): # i toma valores de num-1 a 1\n",
    "    print(\"*\" * i) # imprimo string por el entero i"
   ]
  },
  {
   "cell_type": "code",
   "execution_count": 20,
   "metadata": {},
   "outputs": [
    {
     "name": "stdout",
     "output_type": "stream",
     "text": [
      "*    \n",
      "**   \n",
      "***  \n",
      "**** \n",
      "*****\n",
      "**** \n",
      "***  \n",
      "**   \n",
      "*    \n"
     ]
    }
   ],
   "source": [
    "num = 5 # defino una varible tipo int\n",
    "\n",
    "for i in range(1,num+1): # i toma valores de 1 a num\n",
    "    print(\"*\" * i  + \" \" * (num - i)) \n",
    "    # primera iteracion: i = 1 num-i = 4  \n",
    "    # segunda iteracion: i = 2 num-i = 3  \n",
    "    # tercera iteracion: i = 3 num-i = 2\n",
    "    # cuarta iteracion: i = 4 num-i = 1\n",
    "    # quinta iteracion: i = 5 num-i = 0\n",
    "    # --> la suma siempre da = num\n",
    "\n",
    "for i in range(num-1, 0,-1):\n",
    "    print(\"*\" * i + \" \" * (num - i))\n",
    "    # primera iteracion: i = 4 num-i = 1  \n",
    "    # segunda iteracion: i = 3 num-i = 2  \n",
    "    # tercera iteracion: i = 2 num-i = 3\n",
    "    # cuarta iteracion: i = 1 num-i = 4\n",
    "    # --> la suma siempre da = num"
   ]
  }
 ],
 "metadata": {
  "kernelspec": {
   "display_name": "cblocks",
   "language": "python",
   "name": "python3"
  },
  "language_info": {
   "codemirror_mode": {
    "name": "ipython",
    "version": 3
   },
   "file_extension": ".py",
   "mimetype": "text/x-python",
   "name": "python",
   "nbconvert_exporter": "python",
   "pygments_lexer": "ipython3",
   "version": "3.9.16"
  },
  "orig_nbformat": 4,
  "vscode": {
   "interpreter": {
    "hash": "a29c632ef855f8b82b19cbb7746ca6a4832da0b4715f68c740738099a7e81b0a"
   }
  }
 },
 "nbformat": 4,
 "nbformat_minor": 2
}
