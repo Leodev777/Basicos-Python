{
 "cells": [
  {
   "attachments": {},
   "cell_type": "markdown",
   "metadata": {},
   "source": [
    "Las sentencias break, continue, y else en bucles:\n",
    "\n",
    "Las sentencias de bucle pueden tener una cláusula else que es ejecutada cuando el bucle termina, después de agotar el iterable (con for) o cuando la condición se hace falsa (con while), pero no cuando el bucle se termina con la sentencia break.\n",
    "\n",
    "https://docs.python.org/es/3/tutorial/controlflow.html#break-and-continue-statements-and-else-clauses-on-loops"
   ]
  },
  {
   "cell_type": "code",
   "execution_count": 3,
   "metadata": {},
   "outputs": [
    {
     "name": "stdout",
     "output_type": "stream",
     "text": [
      "Acceso denegado\n",
      "Acceso denegado\n",
      "Acceso denegado\n"
     ]
    }
   ],
   "source": [
    "nombres_usuario = [\"juan123\", \"ana456\", \"pedro789\"]\n",
    "contraseñas = [\"clave123\", \"clave456\", \"clave789\"]\n",
    "\n",
    "usuario = \"juan123\"\n",
    "password = \"\"\n",
    "\n",
    "numero_usuarios = len(nombres_usuario)  # numero total de usuarios\n",
    "                                        # es igual a la longitud de la lista\n",
    "                                        # de nombres\n",
    "\n",
    "for i in range(0,numero_usuarios):\n",
    "    \n",
    "    if nombres_usuario[i] == usuario and contraseñas[i] == password:\n",
    "        print(\"Acceso permitido\")\n",
    "        break\n",
    "    else:\n",
    "        print(\"Acceso denegado\")"
   ]
  },
  {
   "cell_type": "code",
   "execution_count": 5,
   "metadata": {},
   "outputs": [
    {
     "name": "stdout",
     "output_type": "stream",
     "text": [
      "Acceso denegado\n"
     ]
    }
   ],
   "source": [
    "nombres_usuario = [\"juan123\", \"ana456\", \"pedro789\"]\n",
    "contraseñas = [\"clave123\", \"clave456\", \"clave789\"]\n",
    "\n",
    "usuario = \"juan123\"\n",
    "password = \"\"\n",
    "\n",
    "numero_usuarios = len(nombres_usuario)  # numero total de usuarios\n",
    "                                        # es igual a la longitud de la lista\n",
    "                                        # de nombres\n",
    "\n",
    "# recorremos los datos de los usuarios\n",
    "for i in range(0,numero_usuarios):\n",
    "    # comprobamos si usuario y contraseña coinciden\n",
    "    if nombres_usuario[i] == usuario and contraseñas[i] == password:\n",
    "        print(\"Acceso permitido\")\n",
    "        break # fundamental en esta estructura de codigo!\n",
    "\n",
    "else:  # se ejecuta si el for no es interrumpido por la secuencia break\n",
    "    print(\"Acceso denegado\")\n"
   ]
  },
  {
   "cell_type": "code",
   "execution_count": 8,
   "metadata": {},
   "outputs": [
    {
     "name": "stdout",
     "output_type": "stream",
     "text": [
      "Acceso permitido\n"
     ]
    }
   ],
   "source": [
    "nombres_usuario = [\"juan123\", \"ana456\", \"pedro789\"]\n",
    "contraseñas = [\"clave123\", \"clave456\", \"clave789\"]\n",
    "\n",
    "usuario = \"juan123\"\n",
    "password = \"clave123\"\n",
    "\n",
    "numero_usuarios = len(nombres_usuario)  # numero total de usuarios\n",
    "                                        # es igual a la longitud de la lista\n",
    "                                        # de nombres\n",
    "\n",
    "for i in range(0,numero_usuarios):\n",
    "    # comprobamos si usuario y contraseña coinciden\n",
    "    if nombres_usuario[i] == usuario and contraseñas[i] == password:\n",
    "        print(\"Acceso permitido\")\n",
    "\n",
    "else: # se ejecuta si el for no es interrumpido por la secuencia break\n",
    "    print(\"Acceso denegado\")"
   ]
  }
 ],
 "metadata": {
  "kernelspec": {
   "display_name": "cblocks",
   "language": "python",
   "name": "python3"
  },
  "language_info": {
   "codemirror_mode": {
    "name": "ipython",
    "version": 3
   },
   "file_extension": ".py",
   "mimetype": "text/x-python",
   "name": "python",
   "nbconvert_exporter": "python",
   "pygments_lexer": "ipython3",
   "version": "3.9.16"
  },
  "orig_nbformat": 4,
  "vscode": {
   "interpreter": {
    "hash": "a29c632ef855f8b82b19cbb7746ca6a4832da0b4715f68c740738099a7e81b0a"
   }
  }
 },
 "nbformat": 4,
 "nbformat_minor": 2
}
