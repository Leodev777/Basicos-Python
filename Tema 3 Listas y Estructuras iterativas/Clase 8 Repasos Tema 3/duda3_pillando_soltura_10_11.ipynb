{
 "cells": [
  {
   "attachments": {},
   "cell_type": "markdown",
   "metadata": {},
   "source": [
    "10. Crea un script que tome una lista de strings y cree una nueva lista que contenga el tamaño de los strings de la lista original."
   ]
  },
  {
   "cell_type": "code",
   "execution_count": 3,
   "metadata": {},
   "outputs": [
    {
     "name": "stdout",
     "output_type": "stream",
     "text": [
      "Lista de strings: ['hola', 'amigos', 'buenos', 'días']\n",
      "Lista de longitudes: [4, 6, 6, 4]\n"
     ]
    }
   ],
   "source": [
    "# lista de nombres\n",
    "lista_strings = [\"hola\", \"amigos\", \"buenos\", \"días\"]\n",
    "# lista vacia donde guardaremos la longitud de cada nombre\n",
    "lista_longitudes = []\n",
    "\n",
    "# recorremos cada objeto en la lista\n",
    "for cadena in lista_strings:\n",
    "    longitud = 0 # iniciamos una variable en 0 \n",
    "               # para sumar cada caracter\n",
    "\n",
    "    # recorremos cada caracter en la cadena de caracteres\n",
    "    for caracter in cadena:\n",
    "        longitud += 1 # por cada caracter del string sumamos 1  \n",
    "\n",
    "    # una vez hemos sumado todos los caracteres \n",
    "    # añadimos la suma (variable longitud) a la lista vacia\n",
    "    lista_longitudes.append(longitud) \n",
    "\n",
    "# imprimimos los resultados\n",
    "print(\"Lista de strings:\", lista_strings)\n",
    "print(\"Lista de longitudes:\", lista_longitudes)"
   ]
  },
  {
   "cell_type": "code",
   "execution_count": 4,
   "metadata": {},
   "outputs": [
    {
     "name": "stdout",
     "output_type": "stream",
     "text": [
      "Lista de strings: ['hola', 'amigos', 'buenos', 'días']\n",
      "Lista de longitudes: [4, 6, 6, 4]\n"
     ]
    }
   ],
   "source": [
    "# lista de nombres\n",
    "lista_strings = [\"hola\", \"amigos\", \"buenos\", \"días\"]\n",
    "# lista vacia donde guardaremos la longitud de cada nombre\n",
    "lista_longitudes = []\n",
    "\n",
    "# recorremos cada objeto en la lista\n",
    "for cadena in lista_strings:\n",
    "\n",
    "    # conociendo la funcion len\n",
    "    longitud = len(cadena)\n",
    "\n",
    "    # una vez hemos sumado todos los caracteres \n",
    "    # añadimos la suma (variable longitud) a la lista vacia\n",
    "    lista_longitudes.append(longitud) \n",
    "\n",
    "# imprimimos los resultados\n",
    "print(\"Lista de strings:\", lista_strings)\n",
    "print(\"Lista de longitudes:\", lista_longitudes)"
   ]
  },
  {
   "attachments": {},
   "cell_type": "markdown",
   "metadata": {},
   "source": [
    "11. Crea un programa que dada una lista de strings, devuelva otra lista con los strings en mayúscula.\n"
   ]
  },
  {
   "cell_type": "code",
   "execution_count": 6,
   "metadata": {},
   "outputs": [
    {
     "name": "stdout",
     "output_type": "stream",
     "text": [
      "hola\n",
      "HOLA\n",
      "amigos\n",
      "AMIGOS\n",
      "buenos\n",
      "BUENOS\n",
      "días\n",
      "DÍAS\n",
      "Lista de strings: ['hola', 'amigos', 'buenos', 'días']\n",
      "Lista de strings en mayúscula: ['HOLA', 'AMIGOS', 'BUENOS', 'DÍAS']\n"
     ]
    }
   ],
   "source": [
    "# lista de strings\n",
    "lista_strings = [\"hola\", \"amigos\", \"buenos\", \"días\"]\n",
    "# lista vacia donde guardaremos los strings en mayusculas\n",
    "lista_mayusculas = []\n",
    "\n",
    "# recorremos cada objeto en la lista\n",
    "for cadena in lista_strings:\n",
    "  print(cadena)\n",
    "  print(cadena.upper())\n",
    "  lista_mayusculas.append(cadena.upper()) # usamos el metodo upper sobre cada string\n",
    "                                          # para convertirlo en mayuscula\n",
    "                                          # y lo añadimos a la lista vacia\n",
    "\n",
    "# imprimimos los resultados\n",
    "print(\"Lista de strings:\", lista_strings)\n",
    "print(\"Lista de strings en mayúscula:\", lista_mayusculas)"
   ]
  },
  {
   "cell_type": "code",
   "execution_count": 7,
   "metadata": {},
   "outputs": [
    {
     "name": "stdout",
     "output_type": "stream",
     "text": [
      "Lista de strings: ['hola', 'amigos', 'buenos', 'días']\n",
      "Lista de strings en mayúscula: ['HOLA', 'AMIGOS', 'BUENOS', 'DíAS']\n"
     ]
    }
   ],
   "source": [
    "''' En esta version vamos a crear la palabra\n",
    "en mayusucula suponiendo que el metodo upper()\n",
    "no existiese. \n",
    "'''\n",
    "\n",
    "# lista de strings\n",
    "lista_strings = [\"hola\", \"amigos\", \"buenos\", \"días\"]\n",
    "# lista vacia donde guardaremos los strings en mayusculas\n",
    "lista_mayusculas = []\n",
    "\n",
    "# recorremos cada objeto en la lista\n",
    "for cadena in lista_strings:\n",
    "  mayuscula = \"\" # creamos un string vacio que contendra \n",
    "                 # la palabra completa en mayusculas\n",
    "\n",
    "  # recorremos cada caracter del string       \n",
    "  for caracter in cadena:\n",
    "    # la funcion ord() nos devolverá el codigo de unicode de cada caracter\n",
    "    # unicode = estandard de codificacion de caracteres\n",
    "    # sabiendo ese codigo sabemos con que caracter estamos tratando\n",
    "\n",
    "    if ord(caracter) >= 97 and ord(caracter) <= 122:  # si se trata del alfabeto latino \n",
    "                                                      # basico su valor estara entre el 97 y el 122\n",
    "      mayuscula += chr(ord(caracter) - 32)            # la mayuscula correspondiente estara \n",
    "                                                      # 32 posiciones detras\n",
    "                                                      \n",
    "    else:  # si el caracter no esta entre el 97 y el 122 lo añadimos tal cual\n",
    "           # (consideramos que es una mayuscula o un caracter desconocido)\n",
    "      mayuscula += caracter\n",
    "\n",
    "  lista_mayusculas.append(mayuscula) # añadimos la palabra en mayusculas a nuestra lista vacia\n",
    "\n",
    "# imprimimos los resultados\n",
    "print(\"Lista de strings:\", lista_strings)\n",
    "print(\"Lista de strings en mayúscula:\", lista_mayusculas)"
   ]
  }
 ],
 "metadata": {
  "kernelspec": {
   "display_name": "cblocks",
   "language": "python",
   "name": "python3"
  },
  "language_info": {
   "codemirror_mode": {
    "name": "ipython",
    "version": 3
   },
   "file_extension": ".py",
   "mimetype": "text/x-python",
   "name": "python",
   "nbconvert_exporter": "python",
   "pygments_lexer": "ipython3",
   "version": "3.9.16"
  },
  "orig_nbformat": 4,
  "vscode": {
   "interpreter": {
    "hash": "a29c632ef855f8b82b19cbb7746ca6a4832da0b4715f68c740738099a7e81b0a"
   }
  }
 },
 "nbformat": 4,
 "nbformat_minor": 2
}
