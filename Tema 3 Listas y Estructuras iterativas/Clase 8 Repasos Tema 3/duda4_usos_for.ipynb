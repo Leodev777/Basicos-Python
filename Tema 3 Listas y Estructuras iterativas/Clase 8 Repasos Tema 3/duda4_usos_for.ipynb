{
 "cells": [
  {
   "attachments": {},
   "cell_type": "markdown",
   "metadata": {},
   "source": [
    "USOS DEL BUCLE FOR"
   ]
  },
  {
   "cell_type": "code",
   "execution_count": 1,
   "metadata": {},
   "outputs": [
    {
     "name": "stdout",
     "output_type": "stream",
     "text": [
      "0\n",
      "1\n",
      "2\n",
      "3\n",
      "4\n",
      "5\n",
      "6\n",
      "7\n",
      "8\n",
      "9\n"
     ]
    }
   ],
   "source": [
    "for numero in range(0,10):\n",
    "    print(numero)"
   ]
  },
  {
   "cell_type": "code",
   "execution_count": 2,
   "metadata": {},
   "outputs": [
    {
     "name": "stdout",
     "output_type": "stream",
     "text": [
      "0\n",
      "1\n",
      "2\n",
      "3\n",
      "4\n",
      "5\n",
      "6\n",
      "7\n",
      "8\n",
      "9\n"
     ]
    }
   ],
   "source": [
    "numeros = range(0,10)  # range devuelve una secuencia de numeros \n",
    "                       # empezando por defecto desde 0 y con incremento 1\n",
    "for numero in numeros: # recorremos la secuencia de numeros\n",
    "                       # sintaxis: para objeto en secuencia\n",
    "    print(numero)"
   ]
  },
  {
   "cell_type": "code",
   "execution_count": 3,
   "metadata": {},
   "outputs": [
    {
     "name": "stdout",
     "output_type": "stream",
     "text": [
      "0\n",
      "1\n",
      "2\n",
      "3\n",
      "4\n",
      "5\n",
      "6\n",
      "7\n",
      "8\n",
      "9\n"
     ]
    }
   ],
   "source": [
    "''' Realmente cuando se trata de su uso practico en un \n",
    "for loop, se parece mucho a lo que hacemos con las listas '''\n",
    "\n",
    "numeros = [0,1,2,3,4,5,6,7,8,9]\n",
    "\n",
    "for numero in numeros:\n",
    "    print(numero)"
   ]
  },
  {
   "cell_type": "code",
   "execution_count": 4,
   "metadata": {},
   "outputs": [
    {
     "name": "stdout",
     "output_type": "stream",
     "text": [
      "<class 'range'>\n",
      "<class 'list'>\n",
      "<class 'int'>\n"
     ]
    }
   ],
   "source": [
    "''' Pero la funcion range no crea una lista!!\n",
    "Lo que crea es una secuencia de numeros. Una lista y\n",
    "una secuencia son estructuras diferentes en python.\n",
    "Por ejemplo, las listas son mutables mientras que \n",
    "la secuencia creada por range es inmutable\n",
    "'''\n",
    "numeros = range(0,10) \n",
    "print(type(numeros)) # range es un tipo de estructura\n",
    "                     # que se conforma por una secuencia \n",
    "                     # de numeros inmutable.\n",
    "                     # esta pensado para usar en for loops.\n",
    "\n",
    "numeros = [0,1,2,3,4,5,6,7,8,9]\n",
    "print(type(numeros))\n",
    "\n",
    "numero = 5\n",
    "print(type(numero))"
   ]
  },
  {
   "cell_type": "code",
   "execution_count": 5,
   "metadata": {},
   "outputs": [
    {
     "name": "stdout",
     "output_type": "stream",
     "text": [
      "elemento 0 indice 0\n",
      "elemento 10 indice 1\n",
      "elemento 20 indice 2\n",
      "elemento 30 indice 3\n",
      "elemento 40 indice 4\n",
      "elemento 50 indice 5\n",
      "elemento 60 indice 6\n",
      "elemento 70 indice 7\n",
      "elemento 80 indice 8\n",
      "elemento 90 indice 9\n"
     ]
    }
   ],
   "source": [
    "''' Como cada objeto de una lista tiene asociado un \n",
    "indice podemos usar la funcion range para \n",
    "trabajar con una secuencia de numeros\n",
    "que recorran todos los indices de una lista y\n",
    "asi acceder a todos los objetos de la misma'''\n",
    "\n",
    "numeros = [0,10,20,30,40,50,60,70,80,90] # lista de numeros\n",
    "                                         # tiene indices de 0 al 9\n",
    "\n",
    "longitud_lista = len(numeros)   # longitud de la lista = 10 elementos\n",
    "\n",
    "for i in range(0, longitud_lista):  # uso range para que i recorra la secuencia de numeros que va de 0 a 9\n",
    "    print(\"elemento\", numeros[i], \"indice\", i)               # imprimo los elementos de la lista con su indice\n"
   ]
  },
  {
   "cell_type": "code",
   "execution_count": 6,
   "metadata": {},
   "outputs": [
    {
     "name": "stdout",
     "output_type": "stream",
     "text": [
      "elemento 0\n",
      "elemento 10\n",
      "elemento 20\n",
      "elemento 30\n",
      "elemento 40\n",
      "elemento 50\n",
      "elemento 60\n",
      "elemento 70\n",
      "elemento 80\n",
      "elemento 90\n"
     ]
    }
   ],
   "source": [
    "''' Lo anterior es equivalente a esto: '''\n",
    "\n",
    "numeros = [0,10,20,30,40,50,60,70,80,90] # lista de numeros\n",
    "                                         # tiene indices de 0 al 9\n",
    "\n",
    "for numero in numeros:  # recorro los objetos dentro de lista\n",
    "    print(\"elemento\", numero)    # imprimo los elementos de la lista\n",
    "\n",
    "# HE PERDIDO LA INFORMACION DEL INDICE DE CADA OBJETO"
   ]
  },
  {
   "cell_type": "code",
   "execution_count": 7,
   "metadata": {},
   "outputs": [
    {
     "name": "stdout",
     "output_type": "stream",
     "text": [
      "Tomas tiene una nota media de 9.4\n",
      "Lucia tiene una nota media de 7.2\n",
      "Enrique tiene una nota media de 6.8\n"
     ]
    }
   ],
   "source": [
    "''' ¿Es importante tener informacion del indice de cada objeto? Solo si lo necesitas\n",
    "    ¿Cuando necesito el indice de cada objeto? Depende del problema '''\n",
    "\n",
    "# EJEMPLO:\n",
    "# Tengo dos listas correlacionadas \n",
    "alumno = [\"Tomas\", \"Lucia\", \"Enrique\"] # lista con nombres de alumnos\n",
    "notas = [9.4, 7.2, 6.8]                # listas con notas medias\n",
    "\n",
    "total_alumnos = len(alumno)            # la longitud de cualquiera de las dos listas nos da el\n",
    "                                       # numero total de alumnos\n",
    "                                       \n",
    "for i in range(0, total_alumnos):   # i recorre los indices de la lista - toma valores de 0 a 2\n",
    "    print(alumno[i], \"tiene una nota media de\", notas[i])  # imprimimos el nombre de cada alumno con su nota\n"
   ]
  }
 ],
 "metadata": {
  "kernelspec": {
   "display_name": "cblocks",
   "language": "python",
   "name": "python3"
  },
  "language_info": {
   "codemirror_mode": {
    "name": "ipython",
    "version": 3
   },
   "file_extension": ".py",
   "mimetype": "text/x-python",
   "name": "python",
   "nbconvert_exporter": "python",
   "pygments_lexer": "ipython3",
   "version": "3.9.16"
  },
  "orig_nbformat": 4,
  "vscode": {
   "interpreter": {
    "hash": "a29c632ef855f8b82b19cbb7746ca6a4832da0b4715f68c740738099a7e81b0a"
   }
  }
 },
 "nbformat": 4,
 "nbformat_minor": 2
}
