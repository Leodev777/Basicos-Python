{
 "cells": [
  {
   "attachments": {},
   "cell_type": "markdown",
   "metadata": {},
   "source": [
    "Crea un programa que imprima todos los números primos entre el 2 y el 100. Un numero primo es un numero positivo y entero mayor que uno que no tiene un divisor positivo y entero que no sea 1 o sí mismo.\n",
    "Nota: Si un numero es divisor del otro el remanente de la division es 0."
   ]
  },
  {
   "attachments": {},
   "cell_type": "markdown",
   "metadata": {},
   "source": [
    "Version 1. Bucle interno tipo for"
   ]
  },
  {
   "cell_type": "code",
   "execution_count": null,
   "metadata": {},
   "outputs": [],
   "source": [
    "for num in range(2, 101): # num tomara valores de 2 al 100\n",
    "    \n",
    "    prime = True    # suponemos que el numero es primo a no ser\n",
    "                    # que se compruebe lo contrario\n",
    "\n",
    "    for i in range(2, num): # i tomara los valores de 2 a num\n",
    "        \n",
    "        if num % i == 0:  # comprobamos si num es divisible por algun numero \n",
    "                          # entre 2 y num.\n",
    "            prime = False # si la condicion se cumple entonces sabemos que \n",
    "            \n",
    "            break         # que no es un numero primo --> prime = False\n",
    "                          # si comprobamos una vez que el numero es primo no necesitamos\n",
    "                          # buscar mas dividores del numero luego podemos usar break\n",
    "                          # para salir del bucle y acortar el tiempo de calculo\n",
    "        \n",
    "    if prime == True: # si el numero es primo lo imprimimos por pantalla\n",
    "        print(num)\n",
    "    # si no es primo simplemente pasamos al siguiente numero"
   ]
  },
  {
   "attachments": {},
   "cell_type": "markdown",
   "metadata": {},
   "source": [
    "Version 2. Bucle interno tipo while"
   ]
  },
  {
   "cell_type": "code",
   "execution_count": 2,
   "metadata": {},
   "outputs": [
    {
     "name": "stdout",
     "output_type": "stream",
     "text": [
      "2\n",
      "3\n",
      "5\n",
      "7\n",
      "11\n",
      "13\n",
      "17\n",
      "19\n",
      "23\n",
      "29\n",
      "31\n",
      "37\n",
      "41\n",
      "43\n",
      "47\n",
      "53\n",
      "59\n",
      "61\n",
      "67\n",
      "71\n",
      "73\n",
      "79\n",
      "83\n",
      "89\n",
      "97\n"
     ]
    }
   ],
   "source": [
    "for num in range(2, 101): # num tomara valores de 2 al 100\n",
    "\n",
    "    prime = True  # suponemos que el numero es primo a no ser\n",
    "                  # que se compruebe lo contrario\n",
    "\n",
    "    i = 2 # hacemos que i empiece en 2\n",
    "    while prime == True and i < num: # el bucle terminara si se comprueba que prime = False\n",
    "                                     # o si i toma un valor = o mayor que num\n",
    "        if num % i == 0:             # comprobamos si num es divisible por algun numero \n",
    "                                     # entre 2 y num.\n",
    "            prime = False            # si la condicion se cumple entonces sabemos que\n",
    "            \n",
    "        i +=1                        # aumentamos en uno el valor de i\n",
    "\n",
    "    if prime == True: # si el numero es primo lo imprimimos por pantalla\n",
    "        print(num)\n",
    "    # si no es primo simplemente pasamos al siguiente numero"
   ]
  }
 ],
 "metadata": {
  "kernelspec": {
   "display_name": "cblocks",
   "language": "python",
   "name": "python3"
  },
  "language_info": {
   "codemirror_mode": {
    "name": "ipython",
    "version": 3
   },
   "file_extension": ".py",
   "mimetype": "text/x-python",
   "name": "python",
   "nbconvert_exporter": "python",
   "pygments_lexer": "ipython3",
   "version": "3.9.16"
  },
  "orig_nbformat": 4,
  "vscode": {
   "interpreter": {
    "hash": "a29c632ef855f8b82b19cbb7746ca6a4832da0b4715f68c740738099a7e81b0a"
   }
  }
 },
 "nbformat": 4,
 "nbformat_minor": 2
}
